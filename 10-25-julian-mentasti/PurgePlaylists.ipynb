{
 "cells": [
  {
   "cell_type": "code",
   "execution_count": 1,
   "metadata": {},
   "outputs": [],
   "source": [
    "import spotipy\n",
    "import spotipy.util as util\n",
    "import functools, sys"
   ]
  },
  {
   "cell_type": "markdown",
   "metadata": {},
   "source": [
    "You need to set your Spotify API credentials. You can do this by setting environment variables like so:\n",
    "\n",
    "export SPOTIPY_CLIENT_ID='your-spotify-client-id' export SPOTIPY_CLIENT_SECRET='your-spotify-client-secret' export SPOTIPY_REDIRECT_URI='your-app-redirect-url'\n",
    "\n",
    "Get your credentials at\n",
    "https://developer.spotify.com/my-applications\n"
   ]
  },
  {
   "cell_type": "code",
   "execution_count": 2,
   "metadata": {},
   "outputs": [],
   "source": [
    "redirect = ''\n",
    "client = ''\n",
    "secret = ''\n",
    "scope = \"playlist-modify-public\""
   ]
  },
  {
   "cell_type": "code",
   "execution_count": 5,
   "metadata": {},
   "outputs": [],
   "source": [
    "def auth(func):\n",
    "    @functools.wraps(func)\n",
    "    \n",
    "    def getSpotifyObject(token):\n",
    "        sp = spotipy.Spotify(auth=token)\n",
    "        return sp\n",
    "    \n",
    "    def getToken():\n",
    "        username = input(\"Please enter your username: \")\n",
    "        try:\n",
    "            token = util.prompt_for_user_token(username,\n",
    "                                               scope,\n",
    "                                               client_id=client,\n",
    "                                               client_secret=secret,\n",
    "                                               redirect_uri=redirect)\n",
    "            #print(\"auth\")\n",
    "        except:\n",
    "            print(\"auth err\")\n",
    "            sys.exit()\n",
    "        sp = getSpotifyObject(token)\n",
    "        return func(sp, username)\n",
    "    \n",
    "    return getToken"
   ]
  },
  {
   "cell_type": "code",
   "execution_count": 6,
   "metadata": {},
   "outputs": [],
   "source": [
    "\n",
    "@auth\n",
    "def removeSongs(sp,username):\n",
    "    \n",
    "    def returnPlayLists():\n",
    "        print(\"Your Playlists are:\\n\")\n",
    "        playlists = sp.user_playlists(username)\n",
    "        for i, playlist in enumerate(playlists['items']):\n",
    "            print(\"    %d %s\" % (i, playlist['name']))\n",
    "        return playlists\n",
    "    \n",
    "    def selectPlaylist():\n",
    "        album_num = input(\"please Enter the number of the Playlist\"+\n",
    "                          \" you wish to remove songs from: \")\n",
    "        try:\n",
    "            playlist = playlists['items'][int(album_num)]\n",
    "        except:\n",
    "            print(\"List index out of range, please try again.\\n\")\n",
    "            selectPlaylist()\n",
    "        return playlist, playlist['id']\n",
    "        \n",
    "    def getTracks():\n",
    "        tracks = sp.user_playlist(username, \n",
    "                                   chosen_playlist['id'],\n",
    "                                   fields=\"tracks,next\")\n",
    "        return tracks\n",
    "    \n",
    "    def show_tracks(results):\n",
    "        print(\" \")\n",
    "        for i, item in enumerate(results['items']):\n",
    "            track = item['track']\n",
    "            print(\"   %d %32.32s %s\" % (i, track['artists'][0]['name'],\n",
    "                                        track['name']))\n",
    "    def promptDelete():\n",
    "        res = input(\"Is there a song you want to delete? [y/n] \")\n",
    "        if res == \"y\":\n",
    "            deleteSong()\n",
    "        elif res == \"n\":\n",
    "            print(\"Alright Bye\")\n",
    "            sys.exit()\n",
    "        else:\n",
    "            print(\"Invalid input: \"+ res)\n",
    "            promptDelete()\n",
    "            \n",
    "    def deleteSong():\n",
    "        song_num = input(\"Please enter the number of the song you want to delete: \")\n",
    "        try:\n",
    "            track = tracks['tracks']['items'][int(song_num)]\n",
    "        except:\n",
    "            print(\"List index out of range, please try again.\\n\")\n",
    "            deleteSong()\n",
    "            \n",
    "        remove = []\n",
    "        remove.append(track['track']['id'])\n",
    "        sp.user_playlist_remove_all_occurrences_of_tracks(username, \n",
    "                                                          playlist_id, \n",
    "                                                          remove)\n",
    "        print(track['track']['name']+\" Removed\")\n",
    "        promptDelete()\n",
    "            \n",
    "    playlists = returnPlayLists()\n",
    "    chosen_playlist,playlist_id = selectPlaylist()\n",
    "    tracks = getTracks()\n",
    "    show_tracks(tracks['tracks'])\n",
    "    promptDelete()"
   ]
  },
  {
   "cell_type": "code",
   "execution_count": 7,
   "metadata": {},
   "outputs": [
    {
     "name": "stdout",
     "output_type": "stream",
     "text": [
      "Please enter your username: julianmentasti\n",
      "Your Playlists are:\n",
      "\n",
      "    0 Filter Name 2\n",
      "    1 Filler Name 1\n",
      "    2 Try\n",
      "    3 Good\n",
      "please Enter the number of the Playlist you wish to remove songs from: 0\n",
      " \n",
      "   0                       Snail Mail Heat Wave\n",
      "   1         Unknown Mortal Orchestra Hunnybee\n",
      "   2            Red Hot Chili Peppers Dani California\n",
      "   3            Red Hot Chili Peppers Scar Tissue\n",
      "   4            Red Hot Chili Peppers Happiness Loves Company\n",
      "   5            Red Hot Chili Peppers This Is The Place\n",
      "   6            Red Hot Chili Peppers This Velvet Glove\n",
      "   7      The Mighty Mighty Bosstones The Impression That I Get\n",
      "   8      The Mighty Mighty Bosstones The Rascal King\n",
      "   9                   Sufjan Stevens Arnika\n",
      "   10              Broken Social Scene Stay Happy\n",
      "   11                   Sufjan Stevens Casimir Pulaski Day\n",
      "   12                     Eric Clapton San Francisco Bay Blues\n",
      "   13                    Peter Gabriel Solsbury Hill - Remastered 2002\n",
      "   14                      Blind Melon No Rain\n",
      "   15              The Magnetic Fields I Think I Need a New Heart\n",
      "   16                      The Beatles Martha My Dear - Remastered\n",
      "   17                        Metronomy Radio Ladio\n",
      "   18                     Modest Mouse Lampshades on Fire\n",
      "   19                       Aesop Rock Rings\n",
      "   20                       Aesop Rock Dorks\n",
      "   21               Natalia Lafourcade Que la Vida Vale\n",
      "   22              Reverie Sound Revue We Are the Opposite of Thieves\n",
      "Is there a song you want to delete? [y/n] y\n",
      "Please enter the number of the song you want to delete: 6\n",
      "This Velvet Glove Removed\n",
      "Is there a song you want to delete? [y/n] n\n",
      "Alright Bye\n"
     ]
    },
    {
     "ename": "SystemExit",
     "evalue": "",
     "output_type": "error",
     "traceback": [
      "An exception has occurred, use %tb to see the full traceback.\n",
      "\u001b[0;31mSystemExit\u001b[0m\n"
     ]
    },
    {
     "name": "stderr",
     "output_type": "stream",
     "text": [
      "/opt/conda/lib/python3.6/site-packages/IPython/core/interactiveshell.py:2969: UserWarning: To exit: use 'exit', 'quit', or Ctrl-D.\n",
      "  warn(\"To exit: use 'exit', 'quit', or Ctrl-D.\", stacklevel=1)\n"
     ]
    }
   ],
   "source": [
    "removeSongs()"
   ]
  },
  {
   "cell_type": "code",
   "execution_count": null,
   "metadata": {},
   "outputs": [
    {
     "name": "stdout",
     "output_type": "stream",
     "text": [
      "Please enter your username: julianmentasti\n",
      "Your Playlists are:\n",
      "\n",
      "    0 Filter Name 2\n",
      "    1 Filler Name 1\n",
      "    2 Try\n",
      "    3 Good\n",
      "please Enter the number of the Playlist you wish to remove songs from: 0\n",
      " \n",
      "   0                       Snail Mail Heat Wave\n",
      "   1         Unknown Mortal Orchestra Hunnybee\n",
      "   2            Red Hot Chili Peppers Dani California\n",
      "   3            Red Hot Chili Peppers Scar Tissue\n",
      "   4            Red Hot Chili Peppers Happiness Loves Company\n",
      "   5            Red Hot Chili Peppers This Is The Place\n",
      "   6      The Mighty Mighty Bosstones The Impression That I Get\n",
      "   7      The Mighty Mighty Bosstones The Rascal King\n",
      "   8                   Sufjan Stevens Arnika\n",
      "   9              Broken Social Scene Stay Happy\n",
      "   10                   Sufjan Stevens Casimir Pulaski Day\n",
      "   11                     Eric Clapton San Francisco Bay Blues\n",
      "   12                    Peter Gabriel Solsbury Hill - Remastered 2002\n",
      "   13                      Blind Melon No Rain\n",
      "   14              The Magnetic Fields I Think I Need a New Heart\n",
      "   15                      The Beatles Martha My Dear - Remastered\n",
      "   16                        Metronomy Radio Ladio\n",
      "   17                     Modest Mouse Lampshades on Fire\n",
      "   18                       Aesop Rock Rings\n",
      "   19                       Aesop Rock Dorks\n",
      "   20               Natalia Lafourcade Que la Vida Vale\n",
      "   21              Reverie Sound Revue We Are the Opposite of Thieves\n"
     ]
    }
   ],
   "source": [
    "removeSongs()"
   ]
  },
  {
   "cell_type": "code",
   "execution_count": null,
   "metadata": {},
   "outputs": [],
   "source": []
  }
 ],
 "metadata": {
  "kernelspec": {
   "display_name": "Python 3",
   "language": "python",
   "name": "python3"
  },
  "language_info": {
   "codemirror_mode": {
    "name": "ipython",
    "version": 3
   },
   "file_extension": ".py",
   "mimetype": "text/x-python",
   "name": "python",
   "nbconvert_exporter": "python",
   "pygments_lexer": "ipython3",
   "version": "3.6.6"
  }
 },
 "nbformat": 4,
 "nbformat_minor": 2
}
